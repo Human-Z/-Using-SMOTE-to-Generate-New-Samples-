{
 "cells": [
  {
   "cell_type": "markdown",
   "metadata": {},
   "source": [
    "# 划分训练集和测试集\n",
    "基本方法：  \n",
    "- 首先，用户行为记录、消费记录、信用卡记录的最新时间，作为划分训练集和测试集的标准。\n",
    "- 然后，再把测试集划分为A榜和B榜，此处需要随机划分\n",
    "\n",
    "## 获取每个用户的最新时间\n",
    "方法分为如下几个步骤：\n",
    "  1. 从datav5中读入数据\n",
    "  2. 从profile中获取用户id，构建新的df\n",
    "  3. 从银行流水中，取得每名用户的最新时间，更新到df中\n",
    "  4. 从信用卡账单中，取得每名用户的最新时间，更新到df中\n"
   ]
  },
  {
   "cell_type": "code",
   "execution_count": 1,
   "metadata": {},
   "outputs": [],
   "source": [
    "import pandas as pd\n",
    "# step1: 从datav5中读入数据\n",
    "df_profile = pd.read_csv(\"../data/dataV5/profile.csv\")\n",
    "df_bank = pd.read_csv(\"../data/dataV5/bankStatement.csv\")\n",
    "df_bill = pd.read_csv(\"../data/dataV5/creditBill.csv\")\n",
    "df_behaviors = pd.read_csv(\"../data/dataV5/behaviors.csv\")\n",
    "df_overdue = pd.read_csv(\"../data/dataV5/label.csv\")\n",
    "\n",
    "# step2: 从profile中获取用户id，构建新的df\n",
    "df_userTime = pd.DataFrame(df_profile['用户标识'])\n",
    "df_userTime.columns = ['用户标识']"
   ]
  },
  {
   "cell_type": "code",
   "execution_count": 2,
   "metadata": {},
   "outputs": [],
   "source": [
    "# step3: 从银行流水中，取得每名用户的最新时间，更新到df中\n",
    "# df_bank.head()\n",
    "df_userTimeBank = df_bank.groupby('用户标识').agg({'流水时间':'max'})\n",
    "df_userTime = pd.merge(df_userTime,df_userTimeBank,on='用户标识',how='outer')"
   ]
  },
  {
   "cell_type": "code",
   "execution_count": 3,
   "metadata": {},
   "outputs": [],
   "source": [
    "# step4: 从信用卡账单中，取得每名用户的最新时间，更新到df中\n",
    "# df_bill.head()\n",
    "df_userTimeBill = df_bill.groupby('用户标识').agg({'账单时间戳':'max'})\n",
    "df_userTime = pd.merge(df_userTime,df_userTimeBill,on='用户标识',how='outer')\n",
    "\n",
    "# 把nan的列，填充为0\n",
    "df_userTime.fillna(0, inplace = True)"
   ]
  },
  {
   "cell_type": "code",
   "execution_count": 4,
   "metadata": {},
   "outputs": [
    {
     "data": {
      "text/html": [
       "<div>\n",
       "<style scoped>\n",
       "    .dataframe tbody tr th:only-of-type {\n",
       "        vertical-align: middle;\n",
       "    }\n",
       "\n",
       "    .dataframe tbody tr th {\n",
       "        vertical-align: top;\n",
       "    }\n",
       "\n",
       "    .dataframe thead th {\n",
       "        text-align: right;\n",
       "    }\n",
       "</style>\n",
       "<table border=\"1\" class=\"dataframe\">\n",
       "  <thead>\n",
       "    <tr style=\"text-align: right;\">\n",
       "      <th></th>\n",
       "      <th>用户标识</th>\n",
       "      <th>流水时间</th>\n",
       "      <th>账单时间戳</th>\n",
       "    </tr>\n",
       "  </thead>\n",
       "  <tbody>\n",
       "    <tr>\n",
       "      <th>0</th>\n",
       "      <td>0</td>\n",
       "      <td>3.816705e+09</td>\n",
       "      <td>0.000000e+00</td>\n",
       "    </tr>\n",
       "    <tr>\n",
       "      <th>1</th>\n",
       "      <td>1</td>\n",
       "      <td>3.822616e+09</td>\n",
       "      <td>3.815255e+09</td>\n",
       "    </tr>\n",
       "    <tr>\n",
       "      <th>2</th>\n",
       "      <td>2</td>\n",
       "      <td>0.000000e+00</td>\n",
       "      <td>3.805389e+09</td>\n",
       "    </tr>\n",
       "    <tr>\n",
       "      <th>3</th>\n",
       "      <td>3</td>\n",
       "      <td>3.822528e+09</td>\n",
       "      <td>3.838115e+09</td>\n",
       "    </tr>\n",
       "    <tr>\n",
       "      <th>4</th>\n",
       "      <td>4</td>\n",
       "      <td>0.000000e+00</td>\n",
       "      <td>4.036882e+09</td>\n",
       "    </tr>\n",
       "  </tbody>\n",
       "</table>\n",
       "</div>"
      ],
      "text/plain": [
       "   用户标识          流水时间         账单时间戳\n",
       "0     0  3.816705e+09  0.000000e+00\n",
       "1     1  3.822616e+09  3.815255e+09\n",
       "2     2  0.000000e+00  3.805389e+09\n",
       "3     3  3.822528e+09  3.838115e+09\n",
       "4     4  0.000000e+00  4.036882e+09"
      ]
     },
     "execution_count": 4,
     "metadata": {},
     "output_type": "execute_result"
    }
   ],
   "source": [
    "df_userTime.head()"
   ]
  },
  {
   "cell_type": "code",
   "execution_count": 5,
   "metadata": {},
   "outputs": [
    {
     "data": {
      "text/html": [
       "<div>\n",
       "<style scoped>\n",
       "    .dataframe tbody tr th:only-of-type {\n",
       "        vertical-align: middle;\n",
       "    }\n",
       "\n",
       "    .dataframe tbody tr th {\n",
       "        vertical-align: top;\n",
       "    }\n",
       "\n",
       "    .dataframe thead th {\n",
       "        text-align: right;\n",
       "    }\n",
       "</style>\n",
       "<table border=\"1\" class=\"dataframe\">\n",
       "  <thead>\n",
       "    <tr style=\"text-align: right;\">\n",
       "      <th></th>\n",
       "      <th>用户标识</th>\n",
       "      <th>时间标准</th>\n",
       "    </tr>\n",
       "  </thead>\n",
       "  <tbody>\n",
       "    <tr>\n",
       "      <th>0</th>\n",
       "      <td>0</td>\n",
       "      <td>3.816705e+09</td>\n",
       "    </tr>\n",
       "    <tr>\n",
       "      <th>1</th>\n",
       "      <td>1</td>\n",
       "      <td>3.822616e+09</td>\n",
       "    </tr>\n",
       "    <tr>\n",
       "      <th>2</th>\n",
       "      <td>2</td>\n",
       "      <td>3.805389e+09</td>\n",
       "    </tr>\n",
       "    <tr>\n",
       "      <th>3</th>\n",
       "      <td>3</td>\n",
       "      <td>3.838115e+09</td>\n",
       "    </tr>\n",
       "    <tr>\n",
       "      <th>4</th>\n",
       "      <td>4</td>\n",
       "      <td>4.036882e+09</td>\n",
       "    </tr>\n",
       "  </tbody>\n",
       "</table>\n",
       "</div>"
      ],
      "text/plain": [
       "   用户标识          时间标准\n",
       "0     0  3.816705e+09\n",
       "1     1  3.822616e+09\n",
       "2     2  3.805389e+09\n",
       "3     3  3.838115e+09\n",
       "4     4  4.036882e+09"
      ]
     },
     "execution_count": 5,
     "metadata": {},
     "output_type": "execute_result"
    }
   ],
   "source": [
    "# step5: 从信用卡账单中，取得每名用户的最新时间，更新到df中\n",
    "# df_bill.head()\n",
    "df_userTime['时间标准'] = df_userTime.apply(lambda x: max(x.流水时间, x.账单时间戳), axis = 1)\n",
    "df_userTime.drop(['流水时间','账单时间戳'], axis = 1, inplace=True)\n",
    "df_userTime.head()"
   ]
  },
  {
   "cell_type": "markdown",
   "metadata": {},
   "source": [
    "## 按时间排序，划分训练集和测试集；按4:1的比例\n"
   ]
  },
  {
   "cell_type": "code",
   "execution_count": 6,
   "metadata": {},
   "outputs": [
    {
     "data": {
      "text/html": [
       "<div>\n",
       "<style scoped>\n",
       "    .dataframe tbody tr th:only-of-type {\n",
       "        vertical-align: middle;\n",
       "    }\n",
       "\n",
       "    .dataframe tbody tr th {\n",
       "        vertical-align: top;\n",
       "    }\n",
       "\n",
       "    .dataframe thead th {\n",
       "        text-align: right;\n",
       "    }\n",
       "</style>\n",
       "<table border=\"1\" class=\"dataframe\">\n",
       "  <thead>\n",
       "    <tr style=\"text-align: right;\">\n",
       "      <th></th>\n",
       "      <th>用户标识</th>\n",
       "      <th>signTrain</th>\n",
       "    </tr>\n",
       "  </thead>\n",
       "  <tbody>\n",
       "    <tr>\n",
       "      <th>43239</th>\n",
       "      <td>43239</td>\n",
       "      <td>1</td>\n",
       "    </tr>\n",
       "    <tr>\n",
       "      <th>66462</th>\n",
       "      <td>66462</td>\n",
       "      <td>1</td>\n",
       "    </tr>\n",
       "    <tr>\n",
       "      <th>32625</th>\n",
       "      <td>32625</td>\n",
       "      <td>1</td>\n",
       "    </tr>\n",
       "    <tr>\n",
       "      <th>32623</th>\n",
       "      <td>32623</td>\n",
       "      <td>1</td>\n",
       "    </tr>\n",
       "    <tr>\n",
       "      <th>54790</th>\n",
       "      <td>54790</td>\n",
       "      <td>1</td>\n",
       "    </tr>\n",
       "  </tbody>\n",
       "</table>\n",
       "</div>"
      ],
      "text/plain": [
       "        用户标识  signTrain\n",
       "43239  43239          1\n",
       "66462  66462          1\n",
       "32625  32625          1\n",
       "32623  32623          1\n",
       "54790  54790          1"
      ]
     },
     "execution_count": 6,
     "metadata": {},
     "output_type": "execute_result"
    }
   ],
   "source": [
    "# 按时间排序\n",
    "df_userTime.sort_values(by='时间标准',inplace=True)\n",
    "# 取后20%为测试集\n",
    "train_list = [1] * int(df_userTime.shape[0]*0.8)\n",
    "test_list = [0] *( df_userTime.shape[0]-int(df_userTime.shape[0]*0.8) )\n",
    "\n",
    "df_userTime['signTrain'] = train_list + test_list\n",
    "df_userTime.drop(['时间标准'], axis = 1, inplace=True)"
   ]
  },
  {
   "cell_type": "code",
   "execution_count": 37,
   "metadata": {},
   "outputs": [
    {
     "data": {
      "text/html": [
       "<div>\n",
       "<style scoped>\n",
       "    .dataframe tbody tr th:only-of-type {\n",
       "        vertical-align: middle;\n",
       "    }\n",
       "\n",
       "    .dataframe tbody tr th {\n",
       "        vertical-align: top;\n",
       "    }\n",
       "\n",
       "    .dataframe thead th {\n",
       "        text-align: right;\n",
       "    }\n",
       "</style>\n",
       "<table border=\"1\" class=\"dataframe\">\n",
       "  <thead>\n",
       "    <tr style=\"text-align: right;\">\n",
       "      <th></th>\n",
       "      <th>用户标识</th>\n",
       "      <th>signTrain</th>\n",
       "    </tr>\n",
       "  </thead>\n",
       "  <tbody>\n",
       "    <tr>\n",
       "      <th>0</th>\n",
       "      <td>0</td>\n",
       "      <td>1</td>\n",
       "    </tr>\n",
       "    <tr>\n",
       "      <th>1</th>\n",
       "      <td>1</td>\n",
       "      <td>1</td>\n",
       "    </tr>\n",
       "    <tr>\n",
       "      <th>2</th>\n",
       "      <td>2</td>\n",
       "      <td>1</td>\n",
       "    </tr>\n",
       "    <tr>\n",
       "      <th>3</th>\n",
       "      <td>3</td>\n",
       "      <td>1</td>\n",
       "    </tr>\n",
       "    <tr>\n",
       "      <th>4</th>\n",
       "      <td>4</td>\n",
       "      <td>0</td>\n",
       "    </tr>\n",
       "  </tbody>\n",
       "</table>\n",
       "</div>"
      ],
      "text/plain": [
       "   用户标识  signTrain\n",
       "0     0          1\n",
       "1     1          1\n",
       "2     2          1\n",
       "3     3          1\n",
       "4     4          0"
      ]
     },
     "execution_count": 37,
     "metadata": {},
     "output_type": "execute_result"
    }
   ],
   "source": [
    "df_userTime.sort_values(by='用户标识',inplace = True)\n",
    "df_userTime.head()"
   ]
  },
  {
   "cell_type": "code",
   "execution_count": 38,
   "metadata": {},
   "outputs": [],
   "source": [
    "# 分别merge\n",
    "df_profile = pd.merge(df_profile,df_userTime,on='用户标识',how='left')\n",
    "df_bank = pd.merge(df_bank,df_userTime,on='用户标识',how='left')\n",
    "df_bill = pd.merge(df_bill,df_userTime,on='用户标识',how='left')\n",
    "df_behaviors = pd.merge(df_behaviors,df_userTime,on='用户标识',how='left')\n",
    "df_overdue = pd.merge(df_overdue,df_userTime,on='用户标识',how='left')"
   ]
  },
  {
   "cell_type": "code",
   "execution_count": 39,
   "metadata": {},
   "outputs": [
    {
     "name": "stderr",
     "output_type": "stream",
     "text": [
      "D:\\anaconda3\\lib\\site-packages\\pandas\\core\\frame.py:3694: SettingWithCopyWarning: \n",
      "A value is trying to be set on a copy of a slice from a DataFrame\n",
      "\n",
      "See the caveats in the documentation: http://pandas.pydata.org/pandas-docs/stable/indexing.html#indexing-view-versus-copy\n",
      "  errors=errors)\n"
     ]
    }
   ],
   "source": [
    "# 然后根据signTrain完成训练集和测试集的划分\n",
    "def getTrainTest(df,featSignTrain):\n",
    "    df_train = df[df[featSignTrain] == 1]\n",
    "    df_test = df[df[featSignTrain] == 0]\n",
    "    df_train.drop([featSignTrain],axis=1, inplace=True)\n",
    "    df_test.drop([featSignTrain],axis=1, inplace=True)\n",
    "    return df_train,df_test\n",
    "\n",
    "df_profile_train, df_profile_test = getTrainTest(df_profile,'signTrain')\n",
    "df_bank_train, df_bank_test = getTrainTest(df_bank,'signTrain')\n",
    "df_bill_train, df_bill_test = getTrainTest(df_bill,'signTrain')\n",
    "df_behaviors_train, df_behaviors_test = getTrainTest(df_behaviors,'signTrain')\n",
    "df_overdue_train, df_overdue_test = getTrainTest(df_overdue,'signTrain')"
   ]
  },
  {
   "cell_type": "markdown",
   "metadata": {},
   "source": [
    "## 将测试集划分为A榜和B榜\n",
    "采用随机划分，1:1的比例"
   ]
  },
  {
   "cell_type": "code",
   "execution_count": 69,
   "metadata": {},
   "outputs": [
    {
     "name": "stderr",
     "output_type": "stream",
     "text": [
      "D:\\anaconda3\\lib\\site-packages\\ipykernel_launcher.py:12: SettingWithCopyWarning: \n",
      "A value is trying to be set on a copy of a slice from a DataFrame\n",
      "\n",
      "See the caveats in the documentation: http://pandas.pydata.org/pandas-docs/stable/indexing.html#indexing-view-versus-copy\n",
      "  if sys.path[0] == '':\n",
      "D:\\anaconda3\\lib\\site-packages\\ipykernel_launcher.py:13: SettingWithCopyWarning: \n",
      "A value is trying to be set on a copy of a slice from a DataFrame\n",
      "\n",
      "See the caveats in the documentation: http://pandas.pydata.org/pandas-docs/stable/indexing.html#indexing-view-versus-copy\n",
      "  del sys.path[0]\n",
      "D:\\anaconda3\\lib\\site-packages\\ipykernel_launcher.py:15: SettingWithCopyWarning: \n",
      "A value is trying to be set on a copy of a slice from a DataFrame\n",
      "\n",
      "See the caveats in the documentation: http://pandas.pydata.org/pandas-docs/stable/indexing.html#indexing-view-versus-copy\n",
      "  from ipykernel import kernelapp as app\n"
     ]
    },
    {
     "data": {
      "text/html": [
       "<div>\n",
       "<style scoped>\n",
       "    .dataframe tbody tr th:only-of-type {\n",
       "        vertical-align: middle;\n",
       "    }\n",
       "\n",
       "    .dataframe tbody tr th {\n",
       "        vertical-align: top;\n",
       "    }\n",
       "\n",
       "    .dataframe thead th {\n",
       "        text-align: right;\n",
       "    }\n",
       "</style>\n",
       "<table border=\"1\" class=\"dataframe\">\n",
       "  <thead>\n",
       "    <tr style=\"text-align: right;\">\n",
       "      <th></th>\n",
       "      <th>用户标识</th>\n",
       "      <th>signAB</th>\n",
       "    </tr>\n",
       "  </thead>\n",
       "  <tbody>\n",
       "    <tr>\n",
       "      <th>4</th>\n",
       "      <td>4</td>\n",
       "      <td>0</td>\n",
       "    </tr>\n",
       "    <tr>\n",
       "      <th>6</th>\n",
       "      <td>6</td>\n",
       "      <td>0</td>\n",
       "    </tr>\n",
       "    <tr>\n",
       "      <th>13</th>\n",
       "      <td>13</td>\n",
       "      <td>0</td>\n",
       "    </tr>\n",
       "    <tr>\n",
       "      <th>19</th>\n",
       "      <td>19</td>\n",
       "      <td>1</td>\n",
       "    </tr>\n",
       "    <tr>\n",
       "      <th>27</th>\n",
       "      <td>27</td>\n",
       "      <td>1</td>\n",
       "    </tr>\n",
       "  </tbody>\n",
       "</table>\n",
       "</div>"
      ],
      "text/plain": [
       "    用户标识  signAB\n",
       "4      4       0\n",
       "6      6       0\n",
       "13    13       0\n",
       "19    19       1\n",
       "27    27       1"
      ]
     },
     "execution_count": 69,
     "metadata": {},
     "output_type": "execute_result"
    }
   ],
   "source": [
    "# 打乱顺序\n",
    "df_overdue_test = df_overdue_test.sample(frac=1)\n",
    "\n",
    "# 前一半为0，后一半为1\n",
    "A_list = [1] * int(df_overdue_test.shape[0]*0.5)\n",
    "B_list = [0] *( df_overdue_test.shape[0]-int(df_overdue_test.shape[0]*0.5) )\n",
    "\n",
    "df_overdue_test['signAB'] = A_list + B_list\n",
    "\n",
    "df_overdue_testA = df_overdue_test[df_profile_test['signAB']==1]\n",
    "df_overdue_testB = df_overdue_test[df_profile_test['signAB']==0]\n",
    "df_overdue_testA.sort_values(by='用户标识',inplace = True)\n",
    "df_overdue_testB.sort_values(by='用户标识',inplace = True)"
   ]
  },
  {
   "cell_type": "markdown",
   "metadata": {},
   "source": [
    "## 写出所有数据"
   ]
  },
  {
   "cell_type": "code",
   "execution_count": 76,
   "metadata": {},
   "outputs": [],
   "source": [
    "# 写出训练数据\n",
    "df_profile_train.to_csv(\"../data/dataV6/train/train_profile.csv\",index=None)\n",
    "df_bank_train.to_csv(\"../data/dataV6/train/train_bankStatement.csv\",index=None)\n",
    "df_bill_train.to_csv(\"../data/dataV6/train/train_creditBill.csv\",index=None)\n",
    "df_behaviors_train.to_csv(\"../data/dataV6/train/train_behaviors.csv\",index=None)\n",
    "df_overdue_train.to_csv(\"../data/dataV6/train/train_label.csv\",index=None)"
   ]
  },
  {
   "cell_type": "code",
   "execution_count": 77,
   "metadata": {},
   "outputs": [],
   "source": [
    "# 写出测试数据\n",
    "df_profile_test.to_csv(\"../data/dataV6/test/test_profile.csv\",index=None)\n",
    "df_bank_test.to_csv(\"../data/dataV6/test/test_bankStatement.csv\",index=None)\n",
    "df_bill_test.to_csv(\"../data/dataV6/test/test_creditBill.csv\",index=None)\n",
    "df_behaviors_test.to_csv(\"../data/dataV6/test/test_behaviors.csv\",index=None)\n",
    "df_overdue_testA.to_csv(\"../data/dataV6/test/test_label_A.csv\",index=None)\n",
    "df_overdue_testB.to_csv(\"../data/dataV6/test/test_label_B.csv\",index=None)"
   ]
  },
  {
   "cell_type": "code",
   "execution_count": null,
   "metadata": {},
   "outputs": [],
   "source": []
  }
 ],
 "metadata": {
  "kernelspec": {
   "display_name": "Python 3",
   "language": "python",
   "name": "python3"
  },
  "language_info": {
   "codemirror_mode": {
    "name": "ipython",
    "version": 3
   },
   "file_extension": ".py",
   "mimetype": "text/x-python",
   "name": "python",
   "nbconvert_exporter": "python",
   "pygments_lexer": "ipython3",
   "version": "3.7.3"
  },
  "toc": {
   "base_numbering": 1,
   "nav_menu": {},
   "number_sections": true,
   "sideBar": true,
   "skip_h1_title": false,
   "title_cell": "Table of Contents",
   "title_sidebar": "Contents",
   "toc_cell": false,
   "toc_position": {},
   "toc_section_display": true,
   "toc_window_display": false
  },
  "varInspector": {
   "cols": {
    "lenName": 16,
    "lenType": 16,
    "lenVar": 40
   },
   "kernels_config": {
    "python": {
     "delete_cmd_postfix": "",
     "delete_cmd_prefix": "del ",
     "library": "var_list.py",
     "varRefreshCmd": "print(var_dic_list())"
    },
    "r": {
     "delete_cmd_postfix": ") ",
     "delete_cmd_prefix": "rm(",
     "library": "var_list.r",
     "varRefreshCmd": "cat(var_dic_list()) "
    }
   },
   "types_to_exclude": [
    "module",
    "function",
    "builtin_function_or_method",
    "instance",
    "_Feature"
   ],
   "window_display": false
  }
 },
 "nbformat": 4,
 "nbformat_minor": 2
}
