{
 "cells": [
  {
   "cell_type": "markdown",
   "metadata": {},
   "source": [
    "# 处理信用卡账单数据  \n",
    "- 问题：  \n",
    "  1. 时间错乱\n",
    "  2. 数字太乱  \n",
    "  3. 可能出现账单的断裂\n",
    "- 目标：  \n",
    "  1. 归序时间  \n",
    "  2. 优化数字的显示方式  \n",
    "  3. 拼接账单链\n",
    "- 步骤：\n",
    "  1. 排序-为每个用户每张信用卡的账单  \n",
    "  2. 完善账单链，并补充时间，间隔先设置为30天\n",
    "  3. 更改金额数字"
   ]
  },
  {
   "cell_type": "code",
   "execution_count": null,
   "metadata": {},
   "outputs": [],
   "source": [
    "import pandas as pd\n",
    "import numpy as np\n",
    "import copy\n",
    "\n",
    "# 变量定义\n",
    "N = 20000           # 定义新生成样本的数量\n",
    "LimitBanks = 4      # 每个人最多有4个银行卡\n",
    "indBenQi = 6        # 本期账单余额所在列\n",
    "indShangQi = 3      # 上期账单金额所在列\n",
    "indShangQiHuan = 4  # 上期还款金额所在列\n",
    "indEdu = 5          # 信用卡额度所在列\n",
    "indTime = 2         # 时间戳所在的列\n",
    "pAddrec = 0.8       # 加入新纪录作为粘合两条断裂链的概率\n",
    "newidStart = 69495  # 新样本的编号，从这个数字开始"
   ]
  },
  {
   "cell_type": "markdown",
   "metadata": {},
   "source": [
    "## 数据预处理\n",
    "- 有重复值。$\\color{red}{删除}$重复值\n",
    "- 不同银行简单统计。\n",
    "  1. 因为数据来自不同银行，会发现一些银行的数据比较诡异，故需查看。  \n",
    "    bankid = 1，3100条记录，缺失值非常多    \n",
    "    bankid = 2，13.5万条记录，相对质量较高  \n",
    "    bankid = 3，22.1万条记录，基本没有上期账单金额和还款金额  \n",
    "    bankid = 4，26.5万条记录  \n",
    "    bankid = 510014和510044，有循环利息，但数据量较少\n",
    "  2. $\\color{red}{删除}$部分银行的记录。  \n",
    "    编号为1、12，以及所有大于50000的银行id，数量都较少。\n",
    "- 需直接$\\color{red}{删除}$的字段\n",
    "  1. 消费笔数：经常出现消费笔数为0，但账单余额不为0的情况。  \n",
    "  2. 可用余额：出现数量非常少，在某个银行id下会较多。但此数字非常奇怪。  \n",
    "  3. 调整金额，循环利息，预借现金额度：基本上都是空值，仅在少量小众银行下有值。   \n",
    "  4. 本期账单金额：数值非常奇怪，感觉跟其余的字段完全没有关系。  \n",
    "  5. 本期账单最低还款额：基本没有什么用处。  \n",
    "- 需判断后处理的记录\n",
    "  1. 信用卡额度：有些用户会有较大波动，估计是数据合并时出现错误。需检查波动情况，然后删除此用户此银行的所有记录。"
   ]
  },
  {
   "cell_type": "code",
   "execution_count": null,
   "metadata": {},
   "outputs": [],
   "source": [
    "'''\n",
    "  第1步，读入数据，删除无用字段，并删除重复值\n",
    "'''\n",
    "datapath = '../data/'\n",
    "train_credit = pd.read_csv(datapath + 'train/bill_detail_train.txt', header = None)\n",
    "test_credit = pd.read_csv(datapath + 'test/bill_detail_test.txt', header = None)\n",
    "train_credit = pd.concat([train_credit,test_credit],axis = 0)\n",
    "train_credit.columns = ['用户id','账单时间戳','银行id','上期账单金额','上期还款金额','信用卡额度','本期账单余额',  \n",
    "                     '本期账单最低还款额','消费笔数','本期账单金额','调整金额','循环利息','可用余额',  \n",
    "                     '预借现金额度','还款状态']\n",
    "print('原始数据总规模为：', train_credit.shape)\n",
    "remvVars = ['消费笔数','可用余额','调整金额','循环利息','预借现金额度','本期账单金额', '本期账单最低还款额']\n",
    "train_credit.drop(remvVars, axis=1, inplace=True)\n",
    "train_credit.drop_duplicates(inplace=True)\n",
    "print('删除无用字段和重复值之后的数据总规模为：', train_credit.shape)\n",
    "train_credit.drop\n",
    "train_credit.head()"
   ]
  },
  {
   "cell_type": "code",
   "execution_count": null,
   "metadata": {},
   "outputs": [],
   "source": [
    "'''\n",
    "  第2步，删除指定银行的数据\n",
    "'''\n",
    "remvBankid = [1,3,12,510014,510016,510017,510022,510024,510025,510026,510027,510033,510037,510044,510050,510053,510057]\n",
    "train_credit = train_credit.set_index(['银行id'])\n",
    "train_credit.drop(remvBankid,inplace=True)\n",
    "train_credit.reset_index()"
   ]
  },
  {
   "cell_type": "code",
   "execution_count": null,
   "metadata": {},
   "outputs": [],
   "source": [
    "'''\n",
    "  第3步，删除信用卡额度变化太快的字段\n",
    "  \n",
    "  方法：取出每一对（用户id，银行id）对应的记录，然后判断其众数，若众数数量不超过\n",
    "  min(6,总记录数量的一半)，则不保留此数据\n",
    "'''\n",
    "# 新建一个df，存放被保留的数据\n",
    "temp_df = pd.DataFrame()\n",
    "# 取出所有用户id\n",
    "user_lst = list(set(train_credit['用户id'].tolist()))\n",
    "i = 1\n",
    "for usr in user_lst:\n",
    "    i += 1\n",
    "    if i % 1000 == 0:\n",
    "        print('已完成处理%d个用户...'%i)\n",
    "    # 取出用户usr的所有记录\n",
    "    usr_df = train_credit[train_credit['用户id']==usr]\n",
    "    # 取出用户usr的所有银行id\n",
    "    bank_lst = list(set(usr_df['银行id'].tolist()))\n",
    "    for bank in bank_lst:\n",
    "        # 取出用户usr&银行bank的所有记录\n",
    "        usr_bank_df = usr_df[usr_df['银行id']==bank]\n",
    "        if usr_bank_df.shape[0] < 3:\n",
    "            temp_df = pd.concat([temp_df,usr_bank_df], axis=0)\n",
    "        else:\n",
    "            # 求得“信用卡额度”的众数出现的次数\n",
    "            limit_count = usr_df['信用卡额度'].value_counts()\n",
    "            limit_mostFreqCount = list(limit_count)[0]\n",
    "            if limit_mostFreqCount < min(6,int(usr_df['信用卡额度'].shape[0]/2)):\n",
    "                # 跳过这个usr_bank_df\n",
    "                pass\n",
    "            else:\n",
    "                temp_df = pd.concat([temp_df,usr_bank_df], axis=0)\n",
    "        \n",
    "print('删除异常信用卡额度之后的数据总规模为：', temp_df.shape)        "
   ]
  },
  {
   "cell_type": "code",
   "execution_count": null,
   "metadata": {},
   "outputs": [],
   "source": [
    "'''\n",
    "  最后，把处理好的数据写入文件，备用\n",
    "''' \n",
    "temp_df.to_csv('Billdata_clean_20190817.csv')"
   ]
  },
  {
   "cell_type": "markdown",
   "metadata": {},
   "source": [
    "## 排序-单个用户单个银行\n",
    "- 方法：\n",
    "  1. 以原数据的时间作为基本排序\n",
    "  2. 根据“上期账单账单金额”与“本期账单金额”的对应关系，优化时间序列\n",
    "  3. 若存在断链的情况，则找出所有可以连起来的链；再做进一步的判断\n",
    "- 处理流程：  \n",
    "  请见同文件下文件名：农业银行数据-信用卡账单处理流程图"
   ]
  },
  {
   "cell_type": "code",
   "execution_count": null,
   "metadata": {},
   "outputs": [],
   "source": [
    "# 1. 读入新数据\n",
    "bill_df = pd.read_csv('Billdata_clean_20190817.csv')\n",
    "bill_df.head()"
   ]
  },
  {
   "cell_type": "code",
   "execution_count": null,
   "metadata": {},
   "outputs": [],
   "source": [
    "# 2 定义排序函数\n",
    "def sortBillList(df_usr_bank):\n",
    "    # 由于dataframe类型，不便于重复删除指定行，且控制好指针，故转为二维数组\n",
    "    arr = df_usr_bank.sort_values(by='账单时间戳').values\n",
    "        \n",
    "    # bill链可能会出现断裂，此时会找到所有连续的链，存放于resL。\n",
    "    resL = []             # resL定义为一个三维数组\n",
    "    while True:\n",
    "        if len(arr) == 0:\n",
    "            return resL\n",
    "        elif len(arr) == 1:\n",
    "            L = [list(arr[0])]\n",
    "            resL += [L,]\n",
    "            return resL\n",
    "        else:\n",
    "            L = []\n",
    "            L = L + [list(arr[0]),]   #在L中加入arr中的第一条 然后进行判断\n",
    "            arr = np.delete(arr,0,axis=0)\n",
    "            i = 0\n",
    "            \n",
    "            while i < len(arr):\n",
    "                if arr[i][indShangQi] == L[len(L)-1][indBenQi]:   \n",
    "                    L = L + [list(arr[i]),]\n",
    "                    arr = np.delete(arr,i,axis=0)\n",
    "                    i = 0\n",
    "                elif arr[i][indBenQi] == L[0][indShangQi]:   \n",
    "                    L = [list(arr[i]),] + L\n",
    "                    arr = np.delete(arr,i,axis=0)\n",
    "                    i = 0\n",
    "                else:\n",
    "                    i += 1\n",
    "            # 然后判断df是否为空\n",
    "            resL = resL + [L,]   \n",
    "\n"
   ]
  },
  {
   "cell_type": "code",
   "execution_count": null,
   "metadata": {},
   "outputs": [],
   "source": [
    "# 提出所有用户id； 建议分几批来运行，速度会快很多。每次生成的数据，保存成npy即可。\n",
    "userSet = list(set(bill_df['用户id'].tolist()))\n",
    "\n",
    "allSortedList = []\n",
    "\n",
    "# 遍历每一位用户\n",
    "i = 1\n",
    "for usr in userSet:\n",
    "    if i % 1000 == 0:\n",
    "        print('已处理%d个用户...'%i)\n",
    "    i += 1\n",
    "    df_usr = bill_df.loc[bill_df['用户id'] == usr]\n",
    "    # 遍历此用户的每一个银行id\n",
    "    bankSet = set(df_usr['银行id'].tolist())\n",
    "    for bank in bankSet:\n",
    "        df_usr_bank = df_usr.loc[df_usr['银行id'] == bank]\n",
    "        # 调用排序算法,返回生成该“用户&银行”的所有list，存入allSortedList\n",
    "        allSortedList = allSortedList + [sortBillList(df_usr_bank)]\n",
    "    \n",
    "\n",
    "# 将数据保存\n",
    "np.save('tempBillChain.npy',allSortedList)"
   ]
  },
  {
   "cell_type": "markdown",
   "metadata": {},
   "source": [
    "## 合并BillChains\n",
    "- 背景  \n",
    "  对于当前的数据，对用户u银行i的所有信用卡账单，断裂非常严重，需要补成链状。  \n",
    "- 合并的顺序  \n",
    "  以信用卡额度为标准，小额度的尽可能放前面。\n",
    "- 方法  \n",
    "  1. 按较高的概率，添加一条记录，把两条断裂的链粘合起来\n",
    "  2. 按较小的概率，直接把两条链放在一起，就当作是记录缺失了  \n",
    "  \n",
    "  具体的方案，可以看当前目录下的流程图，合并Billchains.jpg\n",
    "  "
   ]
  },
  {
   "cell_type": "code",
   "execution_count": null,
   "metadata": {},
   "outputs": [],
   "source": [
    "# 读入排好顺序的BillChain\n",
    "allSortedList = np.load('tempBillChain.npy')"
   ]
  },
  {
   "cell_type": "code",
   "execution_count": null,
   "metadata": {},
   "outputs": [],
   "source": [
    "# 获得每一个连续链的第一个非0信用卡额度值\n",
    "def getValidCreditLimit(lst2d, ind):\n",
    "    res = 0\n",
    "    for templst in lst2d:\n",
    "        if templst[ind] > res:\n",
    "            res = templst[ind]\n",
    "            break\n",
    "    return res\n",
    "\n",
    "# 开始合并\n",
    "mergedChains = []\n",
    "iout = 1\n",
    "for usr_bank_list in allSortedList:\n",
    "    if iout % 1000 == 0:\n",
    "        print('已处理%d个用户...'%iout)\n",
    "    iout += 1\n",
    "    \n",
    "    resL = usr_bank_list[0]\n",
    "    # 获取当前resL中首个大于0的额度\n",
    "    begCreditLimit = getValidCreditLimit(resL, indEdu)\n",
    "            \n",
    "    for i in range(1,len(usr_bank_list)):\n",
    "        # 获取当前usr_bank_list[i]记录中，第一个不为0的额度\n",
    "        thisCreditLimit = getValidCreditLimit(usr_bank_list[i], indEdu)\n",
    "        \n",
    "        if thisCreditLimit < begCreditLimit:           \n",
    "            # 把第i条记录加在resL“头部”\n",
    "            if random.random() < pAddrec:\n",
    "                # 新增记录，链接resL[0]和usr_bank_list[i]\n",
    "                newrecord = usr_bank_list[i][len(usr_bank_list[i])-1][:]\n",
    "                # 新增记录的上期金额 = usr_bank_list[i][end][本期]\n",
    "                newrecord[indShangQi] = usr_bank_list[i][len(usr_bank_list[i])-1][indBenQi]   \n",
    "                # 新增记录的本期余额 = resL[0][上期]\n",
    "                newrecord[indBenQi] = resL[0][indShangQi]                 \n",
    "                # 新增记录的上期还款金额，在上期金额上，进行浮动，[-0.2，0.2]\n",
    "                newrecord[indShangQiHuan] = newrecord[indShangQi] + (random.random()-0.5)/2\n",
    "                resL = [newrecord] + resL\n",
    "            resL = usr_bank_list[i] + resL\n",
    "        else:\n",
    "            # 把第i条记录加在resL“尾部”\n",
    "            if random.random() < pAddrec:\n",
    "                # 新增记录，链接resL[end]和usr_bank_list[i]\n",
    "                newrecord = resL[len(resL)-1][:]\n",
    "                # 新增记录的上期金额 = resL[end][本期]\n",
    "                newrecord[indShangQi] = resL[len(resL)-1][indBenQi] \n",
    "                # 新增记录的本期余额 = usr_bank_list[i][0][上期]\n",
    "                newrecord[indBenQi] = usr_bank_list[i][0][indShangQi]  \n",
    "                # 新增记录的上期还款金额，在上期金额上，进行浮动，[-0.2，0.2]\n",
    "                newrecord[indShangQiHuan] = newrecord[indShangQi] + (random.random()-0.5)/2\n",
    "                resL = resL + [newrecord]\n",
    "            resL = resL + usr_bank_list[i]\n",
    "            begCreditLimit = thisCreditLimit\n",
    "    \n",
    "    mergedChains = mergedChains + [resL,]\n",
    "\n",
    "# 把得到的结果保存下来，原始数据的记录\n",
    "np.save('initialUserBillChainP'+str(pAddrec)+'.npy',mergedChains)"
   ]
  },
  {
   "cell_type": "markdown",
   "metadata": {},
   "source": [
    "## 生成新样本\n",
    "- 目的与原则\n",
    "  1. 补充新的样本数据\n",
    "  2. 需要区分正负样本，12000个负样本，8000个正样本\n",
    "- 方法\n",
    "  1. 为每一个用户，安排1~4个银行\n",
    "  2. 对于新的正样本用户，仅选择正样本用户的信用卡账单情况；负样本用户同样仅对应负样本\n",
    "  3. 在原有记录上，仅删除样本数据  \n",
    "  \n",
    "  具体的删除样本方案，可以看当前目录下的流程图，生成新样本.jpg"
   ]
  },
  {
   "cell_type": "code",
   "execution_count": null,
   "metadata": {},
   "outputs": [],
   "source": [
    "# 先读入数据\n",
    "initialBillChains = np.load('initialUserBillChainP'+str(pAddrec)+'.npy')\n",
    "# 根据标签数据 'overdue_train.txt'，将initialBillChains分成两部分\n",
    "labels = pd.read_csv('../data/train/overdue_train.txt',header=None)\n",
    "labels.columns = ['用户id','label']\n",
    "\n",
    "iniBCpos, iniBCneg = [],[]\n",
    "ii = 1\n",
    "for lst in initialBillChains:\n",
    "    if ii % 1000 == 0:\n",
    "        print('已完成%d条，共%d条...'%(ii,len(initialBillChains)))\n",
    "    ii += 1\n",
    "    usrid = lst[0][1]\n",
    "    try:\n",
    "        if labels[labels['用户id']==usrid]['label'].tolist()[0] == 1:\n",
    "            iniBCpos = iniBCpos + [lst]\n",
    "        else:\n",
    "            iniBCneg = iniBCneg + [lst]\n",
    "    except:\n",
    "        pass"
   ]
  },
  {
   "cell_type": "code",
   "execution_count": null,
   "metadata": {},
   "outputs": [],
   "source": [
    "def GenerateSamples(iniBC,idStart,Nsample):\n",
    "    newUserBC = []\n",
    "    for i in range(Nsample):\n",
    "        if (i+1)%500 == 0:\n",
    "            print('已新建%d个用户...'%i)\n",
    "        r = np.random.randint(LimitBanks) + 1\n",
    "        newid = idStart + i\n",
    "        banks = []\n",
    "        for _ in range(r):\n",
    "            # 随机取出一条记录，应是一个二维数组\n",
    "            tempind =  np.random.randint(len(iniBC))\n",
    "            thisChain = copy.deepcopy( iniBC[tempind] )\n",
    "            # 取出这条记录的bankid\n",
    "            bankid = thisChain[0][0]\n",
    "            if bankid in banks:\n",
    "                continue\n",
    "            # 开始改造这条记录\n",
    "            banks.append(bankid)\n",
    "\n",
    "            ####### 改造1：删除记录\n",
    "            if np.random.random() < 0.5:\n",
    "                # 只删除头或尾\n",
    "                x = min(7,int((len(thisChain)-1)/3) )\n",
    "                xhead = int(x/2)\n",
    "                xtail = x-xhead\n",
    "                thisChain = np.delete(thisChain,range(xhead),axis=0)\n",
    "                thisChain = np.delete(thisChain,range(len(thisChain)-xtail,len(thisChain)),axis=0)\n",
    "            else:\n",
    "                # 混合删除\n",
    "                a = min(7,int((len(thisChain)-1)/3) )\n",
    "                y = min(3,a)\n",
    "                if a>3:\n",
    "                    x = a-3\n",
    "                    xhead = int(x/2)\n",
    "                    xtail = x-xhead\n",
    "                    thisChain = np.delete(thisChain,range(xhead),axis=0)\n",
    "                    thisChain = np.delete(thisChain,range(len(thisChain)-xtail,len(thisChain)),axis=0)\n",
    "                # 删除y个中间值\n",
    "                remvInds = np.random.randint(0,len(thisChain),y)\n",
    "                thisChain = np.delete(thisChain,remvInds,axis=0)\n",
    "\n",
    "            ####### 改造2：替换userid\n",
    "            thisChain[:,1] = newid\n",
    "\n",
    "            ####### 改造3：上期金额、本期余额、信用卡额度，统一添加一个随机数\n",
    "            ################### 但原来为0的，不能加\n",
    "            temprand = (np.random.random() - 0.5)/2\n",
    "            thisChain[:,indBenQi] = thisChain[:,indBenQi] + temprand\n",
    "            thisChain[:,indShangQi] = thisChain[:,indShangQi] + temprand\n",
    "            thisChain[:,indEdu] = thisChain[:,indEdu] + temprand\n",
    "\n",
    "            ####### 改造4：上期还款金额，各自改一个小小的随机数\n",
    "            thisChain[:,indShangQiHuan] = thisChain[:,indShangQiHuan] + temprand/10\n",
    "            \n",
    "            thisChain[(thisChain < 0.5) & (thisChain>-0.5)] = 0\n",
    "            \n",
    "            newUserBC = newUserBC + [thisChain,]\n",
    "    return newUserBC"
   ]
  },
  {
   "cell_type": "code",
   "execution_count": null,
   "metadata": {},
   "outputs": [],
   "source": [
    "newBCneg = GenerateSamples(iniBCneg,newidStart,12000)\n",
    "newBCpos = GenerateSamples(iniBCpos,newidStart+12000,8000)"
   ]
  },
  {
   "cell_type": "code",
   "execution_count": null,
   "metadata": {},
   "outputs": [],
   "source": [
    "np.save('newUserBCneg.npy',newBCneg)\n",
    "np.save('newUserBCpos.npy',newBCpos)"
   ]
  },
  {
   "cell_type": "markdown",
   "metadata": {},
   "source": [
    "## 样本进一步加工\n",
    "- 方法\n",
    "  1. 以较大概率，0.6，将一些负值置为0  \n",
    "  2. 若时间戳为0，则以0.5的概率将此条记录删除  \n",
    "  3. 若时间戳不为0，则在原来时间上做一些修改，找到第一个不为0的时间，往后看每一条记录  \n",
    "     3.1 若与前一条连续，则加(29.8~31.2)天的偏移。  \n",
    "     3.2 如不连续，则加(29.8~31.2)天的偏移。  \n",
    "     注：当前时间戳，单位为秒，因此需要 $随机数*24*3600$"
   ]
  },
  {
   "cell_type": "code",
   "execution_count": null,
   "metadata": {},
   "outputs": [],
   "source": [
    "def Process(billChains):\n",
    "    thisBC = []\n",
    "    for lst in billChains:\n",
    "        # 遍历此记录\n",
    "        lst = np.array(lst)\n",
    "        i = 0\n",
    "        while i < len(lst):\n",
    "            if lst[i][indTime] == 0:\n",
    "                if np.random.random() < 0.5:\n",
    "                    lst = np.delete(lst, i, axis=0)\n",
    "                    i -= 1\n",
    "                elif np.random.random() < 0.6:\n",
    "                    # 将负值置为0\n",
    "                    lst[lst < 0] = 0\n",
    "            else:\n",
    "                if np.random.random() < 0.6:\n",
    "                    # 将负值置为0\n",
    "                    lst[lst < 0] = 0\n",
    "                try:\n",
    "                    if lst[i][indBenQi] == lst[i+1][indShangQi]:\n",
    "                        timelag = int((np.random.random()*(31.2-29.8) + 29.8) * 24 * 3600)\n",
    "                        lst[i+1][indTime] = lst[i][indTime] + timelag\n",
    "                    else:\n",
    "                        timelag = int((np.random.random()*(31.2-29.8) + 29.8) * 24 * 3600 * np.random.randint(2,4))\n",
    "                        lst[i+1][indTime] = lst[i][indTime] + timelag\n",
    "                except:\n",
    "                    pass\n",
    "            i += 1\n",
    "        thisBC = thisBC + [lst]\n",
    "    return thisBC\n",
    "            "
   ]
  },
  {
   "cell_type": "code",
   "execution_count": null,
   "metadata": {},
   "outputs": [],
   "source": [
    "# 处理newUserBCpos\n",
    "newBCpos = np.load('newUserBCpos.npy')\n",
    "newBCpos1 = Process(newBCpos)\n",
    "# 处理newUserBCneg\n",
    "newBCneg = np.load('newUserBCneg.npy')\n",
    "newBCneg1 = Process(newBCneg)\n",
    "# 处理iniBC\n",
    "iniBC = np.load('initialUserBillChainP0.8.npy')\n",
    "iniBC1 = Process(iniBC)\n",
    "print('done')"
   ]
  },
  {
   "cell_type": "markdown",
   "metadata": {},
   "source": [
    "## 将array还原成dataframe"
   ]
  },
  {
   "cell_type": "code",
   "execution_count": null,
   "metadata": {},
   "outputs": [],
   "source": [
    "np.set_printoptions(suppress=True)\n",
    "def arrayToDF(arr):\n",
    "    res = []\n",
    "    for lst in arr:\n",
    "        res = res + list(lst)\n",
    "    res_df = pd.DataFrame(res)\n",
    "    res_df.columns = ['银行id','用户id','账单时间戳','上期账单金额','上期还款金额','信用卡额度','本期账单余额','还款状态']\n",
    "    return res_df"
   ]
  },
  {
   "cell_type": "code",
   "execution_count": null,
   "metadata": {},
   "outputs": [],
   "source": [
    "newBCpos_df = arrayToDF(newBCpos1)\n",
    "newBCpos_df.to_csv('newBill_pos.csv', index = 0)\n",
    "\n",
    "newBCneg_df = arrayToDF(newBCneg1)\n",
    "newBCneg_df.to_csv('newBill_neg.csv', index = 0)\n",
    "\n",
    "## 由于过摸较大要分开写，运行才会比较快，比如下面的可替换代码\n",
    "iniBC_df = arrayToDF(iniBC1)\n",
    "iniBC_df.to_csv('Bill.csv', index = 0)\n"
   ]
  },
  {
   "cell_type": "code",
   "execution_count": null,
   "metadata": {},
   "outputs": [],
   "source": [
    "# 可替换的代码\n",
    "iniBC1_1 = iniBC1[0:30000]\n",
    "iniBC_df1 = arrayToDF(iniBC1_1)\n"
   ]
  },
  {
   "cell_type": "code",
   "execution_count": null,
   "metadata": {},
   "outputs": [],
   "source": [
    "iniBC1_2 = iniBC1[30000:60000]\n",
    "iniBC_df2 = arrayToDF(iniBC1_2)\n",
    "#诸如此类"
   ]
  }
 ],
 "metadata": {
  "kernelspec": {
   "display_name": "Python 3",
   "language": "python",
   "name": "python3"
  },
  "language_info": {
   "codemirror_mode": {
    "name": "ipython",
    "version": 3
   },
   "file_extension": ".py",
   "mimetype": "text/x-python",
   "name": "python",
   "nbconvert_exporter": "python",
   "pygments_lexer": "ipython3",
   "version": "3.7.3"
  },
  "toc": {
   "base_numbering": 1,
   "nav_menu": {},
   "number_sections": true,
   "sideBar": true,
   "skip_h1_title": false,
   "title_cell": "Table of Contents",
   "title_sidebar": "Contents",
   "toc_cell": false,
   "toc_position": {
    "height": "calc(100% - 180px)",
    "left": "10px",
    "top": "150px",
    "width": "332px"
   },
   "toc_section_display": true,
   "toc_window_display": true
  },
  "varInspector": {
   "cols": {
    "lenName": 16,
    "lenType": 16,
    "lenVar": 40
   },
   "kernels_config": {
    "python": {
     "delete_cmd_postfix": "",
     "delete_cmd_prefix": "del ",
     "library": "var_list.py",
     "varRefreshCmd": "print(var_dic_list())"
    },
    "r": {
     "delete_cmd_postfix": ") ",
     "delete_cmd_prefix": "rm(",
     "library": "var_list.r",
     "varRefreshCmd": "cat(var_dic_list()) "
    }
   },
   "types_to_exclude": [
    "module",
    "function",
    "builtin_function_or_method",
    "instance",
    "_Feature"
   ],
   "window_display": false
  }
 },
 "nbformat": 4,
 "nbformat_minor": 2
}
